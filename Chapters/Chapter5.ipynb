{
  "nbformat": 4,
  "nbformat_minor": 0,
  "metadata": {
    "colab": {
      "name": "Chapter5.ipynb",
      "provenance": [],
      "collapsed_sections": []
    },
    "kernelspec": {
      "name": "python3",
      "display_name": "Python 3"
    },
    "language_info": {
      "name": "python"
    }
  },
  "cells": [
    {
      "cell_type": "markdown",
      "source": [
        "# Chapter 5 - Calculating Network Error with Loss"
      ],
      "metadata": {
        "id": "MtrRmSjOleZk"
      }
    },
    {
      "cell_type": "code",
      "source": [
        "!pip install nnfs"
      ],
      "metadata": {
        "colab": {
          "base_uri": "https://localhost:8080/"
        },
        "id": "sUI36JavAZ5f",
        "outputId": "f7494620-e34f-4447-ed66-63f6c47c3a74"
      },
      "execution_count": 38,
      "outputs": [
        {
          "output_type": "stream",
          "name": "stdout",
          "text": [
            "Collecting nnfs\n",
            "  Downloading nnfs-0.5.1-py3-none-any.whl (9.1 kB)\n",
            "Requirement already satisfied: numpy in /usr/local/lib/python3.7/dist-packages (from nnfs) (1.21.5)\n",
            "Installing collected packages: nnfs\n",
            "Successfully installed nnfs-0.5.1\n"
          ]
        }
      ]
    },
    {
      "cell_type": "markdown",
      "source": [
        "# Categorical cross entropy error\n",
        "L = -SUM(y_true * log(y_pred))\n",
        "\n",
        "In fact, it is the same that calculating only -log(softmax_output[ground_truth==1]). Thus, we only do one operation instead of multiplying \n",
        "0 labels by softmax probability."
      ],
      "metadata": {
        "id": "5sjgXRTrmev2"
      }
    },
    {
      "cell_type": "code",
      "execution_count": 3,
      "metadata": {
        "colab": {
          "base_uri": "https://localhost:8080/"
        },
        "id": "3i78iYWckrSe",
        "outputId": "dc1adb60-fc74-4918-e287-bff1a42f0871"
      },
      "outputs": [
        {
          "output_type": "stream",
          "name": "stdout",
          "text": [
            "0.35667494393873245 0.35667494393873245 True\n"
          ]
        }
      ],
      "source": [
        "import math \n",
        "\n",
        "# An example output from the output layer of the neural network\n",
        "softmax_output = [0.7, 0.1, 0.2]\n",
        "\n",
        "# Ground Truth\n",
        "target_output = [1, 0, 0]\n",
        "\n",
        "# -(1 * log(0.7) + 0 * ... + 0 * ...)\n",
        "# = - log(0.7)\n",
        "\n",
        "loss = -(math.log(softmax_output[0]) * target_output[0] + \n",
        "         math.log(softmax_output[1]) * target_output[1] + \n",
        "         math.log(softmax_output[2]) * target_output[2])\n",
        "\n",
        "# - log(0.7)\n",
        "loss_reduced = -(math.log(softmax_output[target_output==1]))\n",
        "\n",
        "print(loss, loss_reduced, loss == loss_reduced)"
      ]
    },
    {
      "cell_type": "markdown",
      "source": [
        "# Here we see that log values near to 1 tend to zero, but values near to zero are bigger (forget about the minus because the formula multiplies by - to make the value positive). Then, the greater the probability, the smallest the loss."
      ],
      "metadata": {
        "id": "bajRj6pFsZVG"
      }
    },
    {
      "cell_type": "code",
      "source": [
        "import numpy as np\n",
        "import matplotlib.pyplot as plt\n",
        "\n",
        "x = np.linspace(0.05, 1, 19)\n",
        "\n",
        "xx = [math.log(i) for i in x]\n",
        "\n",
        "plt.plot(np.linspace(0, 1, len(xx)),xx)"
      ],
      "metadata": {
        "colab": {
          "base_uri": "https://localhost:8080/",
          "height": 282
        },
        "id": "MtRBBTWvqXyi",
        "outputId": "1218c993-6399-4dbb-993a-6ded90cfba45"
      },
      "execution_count": 22,
      "outputs": [
        {
          "output_type": "execute_result",
          "data": {
            "text/plain": [
              "[<matplotlib.lines.Line2D at 0x7f03a2172350>]"
            ]
          },
          "metadata": {},
          "execution_count": 22
        },
        {
          "output_type": "display_data",
          "data": {
            "image/png": "[encoded data removed]",
            "text/plain": [
              "<Figure size 432x288 with 1 Axes>"
            ]
          },
          "metadata": {
            "needs_background": "light"
          }
        }
      ]
    },
    {
      "cell_type": "code",
      "source": [
        "softmax_outputs = np.array([[0.7, 0.1, 0.2],\n",
        "                           [0.1, 0.5, 0.4],\n",
        "                           [0.02, 0.9, 0.08]])\n",
        "class_targets = [0, 1, 1]\n",
        "\n",
        "# we can get the target probabilities of softmax_outputs directly with numpy\n",
        "# we can use a list of indices to get values from a numpy array\n",
        "\n",
        "# for example\n",
        "a = np.array([[1,2,3], [4,5,6], [7,8,9]])\n",
        "b = [1, 2, 0]\n",
        "\n",
        "print(a[[0, 1, 2], b])\n",
        "\n",
        "print(softmax_outputs[range(len(softmax_outputs)), class_targets])\n",
        "\n",
        "# then, now we can calculate the -log\n",
        "loss = -np.log(softmax_outputs[range(len(softmax_outputs)), class_targets])\n",
        "\n",
        "print(loss)\n",
        "\n",
        "# now, we want to calculate the average loss of the whole batch\n",
        "# to see how our model is performing\n",
        "avg_loss = np.mean(loss)\n",
        "\n",
        "print(avg_loss)"
      ],
      "metadata": {
        "colab": {
          "base_uri": "https://localhost:8080/"
        },
        "id": "1RnDvDnLvOdW",
        "outputId": "c273c7e2-3d50-4930-e49c-fb7a60df3f16"
      },
      "execution_count": 31,
      "outputs": [
        {
          "output_type": "stream",
          "name": "stdout",
          "text": [
            "[2 6 7]\n",
            "[0.7 0.5 0.9]\n",
            "[0.35667494 0.69314718 0.10536052]\n",
            "0.38506088005216804\n"
          ]
        }
      ]
    },
    {
      "cell_type": "markdown",
      "source": [
        "# The Categorical Cross-Entropy Loss Class"
      ],
      "metadata": {
        "id": "HlhaXm-E0Da3"
      }
    },
    {
      "cell_type": "code",
      "source": [
        "# first, we create our global loss class. If we use more than one loss, i.e. for\n",
        "# object detection, the global loss is the mean value between class loss and \n",
        "# box loss.\n",
        "\n",
        "# Common loss class\n",
        "class Loss:\n",
        "\n",
        "  # Calculates the data and regularizations losses given model output and\n",
        "  # ground truth values\n",
        "  def calculate(self, output, y):\n",
        "\n",
        "    # Calculate sample losses\n",
        "    sample_losses = self.forward(output, y)\n",
        "\n",
        "    # Calculate mean loss\n",
        "    data_loss = np.mean(sample_losses)\n",
        "\n",
        "    # Return loss\n",
        "    return data_loss\n",
        "\n",
        "\n",
        "# Cross-entropy loss\n",
        "class Loss_CategoricalCrossentropy(Loss):\n",
        "\n",
        "  # Forward pass\n",
        "  def forward(self, y_pred, y_true):\n",
        "\n",
        "    # Number of samples in a batch\n",
        "    samples = len(y_pred)\n",
        "\n",
        "    # Clip data to prevent division by 0 when calculating log. We have to avoid\n",
        "    # calculating log(0). Then, we clip all the output values from softmax between\n",
        "    # 1e-7 and 1-1e-7.\n",
        "    y_pred_clipped = np.clip(y_pred, 1e-7, 1-1e-7)\n",
        "\n",
        "    # Probabilities for target values - only if categorical labels\n",
        "    # this is for sparse labels [0, 2, 5, 1], each value is a label\n",
        "    if len(y_true.shape) == 1:\n",
        "      correct_confidences = y_pred_clipped[range(samples), y_true]\n",
        "\n",
        "    # for one hot encoded labels, we multiply each softmax output\n",
        "    # by the label\n",
        "    elif len(y_true.shape) == 2:\n",
        "      correct_confidences = np.sum(y_pred_clipped * y_true, axis=1)\n",
        "\n",
        "\n",
        "    # Losses\n",
        "    negative_log_likelihoods = -np.log(correct_confidences)\n",
        "\n",
        "    return negative_log_likelihoods"
      ],
      "metadata": {
        "id": "PGjZawqr0X_N"
      },
      "execution_count": 35,
      "outputs": []
    },
    {
      "cell_type": "code",
      "source": [
        "\"\"\"# example\n",
        "\n",
        "loss_function = Loss_CategoricalCrossentropy()\n",
        "loss = loss_function.calculate(softmax_outputs, np.asarray(class_targets))\n",
        "\n",
        "print(loss)\"\"\""
      ],
      "metadata": {
        "colab": {
          "base_uri": "https://localhost:8080/",
          "height": 53
        },
        "id": "yNbIbpfE_IIx",
        "outputId": "42725c06-693d-471f-c7e5-0d27b35d15b2"
      },
      "execution_count": 42,
      "outputs": [
        {
          "output_type": "execute_result",
          "data": {
            "application/vnd.google.colaboratory.intrinsic+json": {
              "type": "string"
            },
            "text/plain": [
              "'# example\\n\\nloss_function = Loss_CategoricalCrossentropy()\\nloss = loss_function.calculate(softmax_outputs, np.asarray(class_targets))\\n\\nprint(loss)'"
            ]
          },
          "metadata": {},
          "execution_count": 42
        }
      ]
    },
    {
      "cell_type": "markdown",
      "source": [
        "# Combining everything up to this point"
      ],
      "metadata": {
        "id": "AL46bqNX_0EZ"
      }
    },
    {
      "cell_type": "code",
      "source": [
        "class Layer_Dense:\n",
        "\n",
        "  def __init__(self, n_inputs, n_neurons):\n",
        "    \"\"\"\n",
        "    Initialise weights and biases\n",
        "    random.randn returns a matrix with n_inputs x n_neurons shape\n",
        "    it makes sense to create the weights matrix with inputs x neurons shape\n",
        "    NUMBER OF WEIGHTS VALUES = NUMBER OF INPUTS X NUMBER OF NEURONS\n",
        "    \n",
        "    note that we define the shape as inputs X neurons and not neurons X inputs\n",
        "    to avoid transposing every time we do a forward pass\n",
        "    \n",
        "        4 inputs, 3 neurons\n",
        "        wij -> weight, i -> input value, j -> neuron \n",
        "        [w11, w12, w13]\n",
        "        [w21, w22, w23]\n",
        "        [w31, w32, w33]\n",
        "        [w41, w42, w43]\n",
        "\n",
        "        each column is already a vector of weights of each neuron for the input\n",
        "    \n",
        "    random.randn generates values from a Gaussian distribution with a mean of 0\n",
        "    and a variance of 1, which mean that it'll generate random numbers, positive and\n",
        "    negative [-1,1], centered at 0 and with the mean value close to 0.\n",
        "    \n",
        "    we multiply here by 0.01 because we want to initialise weights with non-zero values\n",
        "    but these values have to be small because training updates will be smaller. \n",
        "    If weight values are very big, the training will last more time.\n",
        "    \n",
        "    \"\"\"\n",
        "    \n",
        "    self.weights = 0.01 * np.random.randn(n_inputs, n_neurons)\n",
        "    # ONE BIAS VALUE FOR EACH NEURON\n",
        "    self.biases = np.zeros((1, n_neurons))\n",
        "\n",
        "\n",
        "  # Forward pass\n",
        "  def forward(self, inputs):\n",
        "    # Calculate outputs values from inputs, weights and biases\n",
        "    self.output = np.dot(inputs, self.weights) + self.biases\n",
        "\n",
        "# --------------------------------------------------------\n",
        "# ReLU activation class\n",
        "class Activation_ReLU:\n",
        "\n",
        "  # Forward pass\n",
        "  def forward(self, inputs):\n",
        "    # Calculate output values from input\n",
        "    self.output = np.maximum(0, inputs)\n",
        "\n",
        "\n",
        "# -------------------------------------------------------\n",
        "# Softmax activation class\n",
        "class Activation_Softmax:\n",
        "\n",
        "  # Forward pass\n",
        "  def forward(self, inputs):\n",
        "    \n",
        "    # Get unnormalized probabilities\n",
        "    exp_values = np.exp(inputs - np.max(inputs, axis=1, keepdims=True))\n",
        "\n",
        "    # Normalize them for each sample\n",
        "    probabilities = exp_values / np.sum(exp_values, axis=1, keepdims=True)\n",
        "\n",
        "    self.output = probabilities"
      ],
      "metadata": {
        "id": "-_DBp0Jc_zlS"
      },
      "execution_count": 36,
      "outputs": []
    },
    {
      "cell_type": "code",
      "source": [
        "import nnfs \n",
        "from nnfs.datasets import spiral_data\n",
        "\n",
        "nnfs.init()\n",
        "# create dataset\n",
        "X, y = spiral_data(samples=100, classes=3)  # samples per class\n",
        "\n",
        "# -----------------model------------\n",
        "\n",
        "# create dense layer with 2 input features and 3 output values\n",
        "dense1 = Layer_Dense(2, 3)\n",
        "\n",
        "# Create ReLU activation (to beb used with Dense layer):\n",
        "activation1 = Activation_ReLU()\n",
        "\n",
        "# Create second Dense layer with 3 input features (as we take output\n",
        "# of previous layer here) and 3 output values\n",
        "dense2 = Layer_Dense(3, 3)\n",
        "\n",
        "# Create softmax activation (to be used with dense layer)\n",
        "activation2 = Activation_Softmax()\n",
        "\n",
        "# Create loss function \n",
        "loss_function = Loss_CategoricalCrossentropy()\n",
        "\n",
        "# ----------------forward------------\n",
        "\n",
        "# Perform a forward pass of our training data through this layer\n",
        "dense1.forward(X)\n",
        "\n",
        "# Forward pass through activation func.\n",
        "# Takes in output from previous layer\n",
        "activation1.forward(dense1.output)\n",
        "\n",
        "# Make a forward pass through second dense layer\n",
        "# it takes outputs of activation function of first layer as inputs\n",
        "dense2.forward(activation1.output)\n",
        "\n",
        "# in softmax, the number of inputs is the number of final classes\n",
        "# here we have 3 classes\n",
        "activation2.forward(dense2.output)\n",
        "\n",
        "# Perform a forward pass through loss function \n",
        "# it takes the output of the softmax layer here and returns loss\n",
        "# y is sparse\n",
        "loss = loss_function.calculate(activation2.output, y)\n",
        "\n",
        "print(\"loss: \", loss)\n",
        "\n",
        "# Accuracy calculation\n",
        "predictions = np.argmax(activation2.output, axis=1)\n",
        "\n",
        "# if labels are one-hot encoded, convert them to sparse\n",
        "if len(y.shape) == 2:\n",
        "  y = np.argmax(y, axis=1)\n",
        "\n",
        "accuracy = np.mean(predictions==y)\n",
        "\n",
        "print(\"accuracy: \", accuracy)"
      ],
      "metadata": {
        "colab": {
          "base_uri": "https://localhost:8080/"
        },
        "id": "hrTjVkGdARNu",
        "outputId": "1463972c-e0bc-455a-8e32-03f8227b7335"
      },
      "execution_count": 50,
      "outputs": [
        {
          "output_type": "stream",
          "name": "stdout",
          "text": [
            "loss:  1.0986104\n",
            "accuracy:  0.34\n"
          ]
        }
      ]
    }
  ]
}